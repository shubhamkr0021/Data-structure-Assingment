{
 "cells": [
  {
   "cell_type": "markdown",
   "id": "8926a5a9-a11a-4e1b-8e90-c648e5fe2905",
   "metadata": {},
   "source": [
    "Q1. How do you comment code in Python? What are the different types of comments?"
   ]
  },
  {
   "cell_type": "markdown",
   "id": "6d16bf56-2e22-4dc7-9004-25c2db11b30e",
   "metadata": {},
   "source": [
    "In Python comments are lines of code that are not executed or interpreted by the Python interpreter.\n",
    "You can add comments to your code to provide explanations.\n",
    "\n",
    "There are Two types of comment:\n",
    "1. Single-line comments :- Single-line comments are used to add comments on a single line. They start with the # character\n",
    "     for example: #this is example of single line comment\n",
    "\n",
    "2. Multi-line comment:-  Multi-line comments are used to comments multiple lines. start with three single or double '''  and end with three '''\n",
    "    for example:-  '''this my\n",
    "                        new multiple\n",
    "                        comment'''\n",
    "    "
   ]
  },
  {
   "cell_type": "markdown",
   "id": "9a22b725-38ac-4bec-befb-2efafdcf890c",
   "metadata": {},
   "source": [
    "Q2. What are variables in Python? How do you declare and assign values to variables?"
   ]
  },
  {
   "cell_type": "markdown",
   "id": "c1311bf7-de68-46fc-ade9-439b636fd87e",
   "metadata": {},
   "source": [
    "Variables are used to store and refer to data values. They serve as named placeholders in memory \n",
    "that hold values of different types such as numbers, strings or lists\n",
    "\n",
    "declare variable:-\n",
    "   name_var = data\n",
    "   \n",
    "for ex:-\n",
    "name = \"shubham\" (this is string)\n",
    "age = 25 (int)\n",
    "weight = 71.5 (float)"
   ]
  },
  {
   "cell_type": "markdown",
   "id": "acb135e9-1a9c-4401-b737-405cccca9a17",
   "metadata": {},
   "source": [
    "Q3. How do you convert one data type to another in Python?\n"
   ]
  },
  {
   "cell_type": "code",
   "execution_count": 2,
   "id": "4bd87463-92d5-4ff4-ad93-123b4417b52e",
   "metadata": {},
   "outputs": [
    {
     "data": {
      "text/plain": [
       "str"
      ]
     },
     "execution_count": 2,
     "metadata": {},
     "output_type": "execute_result"
    }
   ],
   "source": [
    "num_to_str = str(20)  # Converts the integer 20 to a string \"20\"\n",
    "type(num_to_str)"
   ]
  },
  {
   "cell_type": "markdown",
   "id": "2fcbf534-8d8f-440d-807f-c35439d01f1f",
   "metadata": {},
   "source": [
    "Q4. How do you write and execute a Python script from the command line?"
   ]
  },
  {
   "cell_type": "markdown",
   "id": "d9c6b649-ed40-4c80-84f9-4c37a4fd84be",
   "metadata": {},
   "source": [
    "Steps\n",
    "1. Open a text editor and write Python code and save the file with a .py extension\n",
    "2. Open commandline go to the directory where you save the file.\n",
    "3 .Execute the file with is command \"python3 file_name.py\""
   ]
  },
  {
   "cell_type": "markdown",
   "id": "cc3908b2-f21d-4755-9de3-799c8b505d86",
   "metadata": {},
   "source": [
    "Q5. Given a list my_list = [1, 2, 3, 4, 5], write the code to slice the list and obtain the sub-list [2, 3].\n"
   ]
  },
  {
   "cell_type": "code",
   "execution_count": 3,
   "id": "56bf0ce8-381c-4d91-9eab-ae21d2e6df56",
   "metadata": {},
   "outputs": [
    {
     "data": {
      "text/plain": [
       "[2, 3]"
      ]
     },
     "execution_count": 3,
     "metadata": {},
     "output_type": "execute_result"
    }
   ],
   "source": [
    "my_list = [1, 2, 3, 4, 5]\n",
    "sub_list = my_list[1:3]\n",
    "sub_list"
   ]
  },
  {
   "cell_type": "markdown",
   "id": "62b28fd4-b9d9-4ad9-a1b2-d32f9021e546",
   "metadata": {},
   "source": [
    "Q6. What is a complex number in mathematics, and how is it represented in Python?\n"
   ]
  },
  {
   "cell_type": "markdown",
   "id": "0cc74e51-0907-414c-8143-d03f199265ea",
   "metadata": {},
   "source": [
    " A complex number is a number of the form a + bi, where a and b are real numbers, and i is the imaginary unit\n",
    " for example:- (4+5j)\n",
    " where 4 and 5 is real number and j is imaginary."
   ]
  },
  {
   "cell_type": "markdown",
   "id": "a0a89a88-36a8-47dd-af47-e57052b52161",
   "metadata": {},
   "source": [
    "Q7. What is the correct way to declare a variable named age and assign the value 25 to it?"
   ]
  },
  {
   "cell_type": "code",
   "execution_count": 4,
   "id": "5db3f3a5-3679-46ef-94fe-4b01e032f175",
   "metadata": {},
   "outputs": [
    {
     "data": {
      "text/plain": [
       "25"
      ]
     },
     "execution_count": 4,
     "metadata": {},
     "output_type": "execute_result"
    }
   ],
   "source": [
    "age = 25\n",
    "age"
   ]
  },
  {
   "cell_type": "markdown",
   "id": "44c02921-9bf6-4db2-8163-033f6db75fe1",
   "metadata": {},
   "source": [
    "Q8. Declare a variable named price and assign the value 9.99 to it. What data type does this variable\n",
    "belong to?\n"
   ]
  },
  {
   "cell_type": "code",
   "execution_count": 6,
   "id": "222ea9ec-5d5f-4713-a6f8-8bb64920eff7",
   "metadata": {},
   "outputs": [
    {
     "data": {
      "text/plain": [
       "float"
      ]
     },
     "execution_count": 6,
     "metadata": {},
     "output_type": "execute_result"
    }
   ],
   "source": [
    "#Data type of variable name price is float\n",
    "price = 9.99\n",
    "type(price)"
   ]
  },
  {
   "cell_type": "markdown",
   "id": "a4e0d260-0a3d-4dd4-aa23-e9b6cc3401ff",
   "metadata": {},
   "source": [
    "Q9. Create a variable named name and assign your full name to it as a string. How would you print the\n",
    "value of this variable?\n"
   ]
  },
  {
   "cell_type": "code",
   "execution_count": 7,
   "id": "1c03051a-61ad-460b-b744-402410b8368c",
   "metadata": {},
   "outputs": [
    {
     "name": "stdout",
     "output_type": "stream",
     "text": [
      "Shubham Kumar\n"
     ]
    }
   ],
   "source": [
    "name = \"Shubham Kumar\"\n",
    "print(name)"
   ]
  },
  {
   "cell_type": "markdown",
   "id": "246b709d-2dcb-4af5-9203-f030b4971506",
   "metadata": {},
   "source": [
    "Q10. Given the string \"Hello, World!\", extract the substring \"World\".\n"
   ]
  },
  {
   "cell_type": "code",
   "execution_count": 9,
   "id": "6d9a12fc-ff1e-42e7-a82b-c2c1f0d23dba",
   "metadata": {},
   "outputs": [
    {
     "data": {
      "text/plain": [
       "'World'"
      ]
     },
     "execution_count": 9,
     "metadata": {},
     "output_type": "execute_result"
    }
   ],
   "source": [
    "string = \"Hello, World\"\n",
    "sub_string = string[7:12]\n",
    "sub_string"
   ]
  },
  {
   "cell_type": "markdown",
   "id": "a241571a-5b4c-4b4a-90c7-3d08b04f8f4f",
   "metadata": {},
   "source": [
    "Q11. Create a variable named \"is_student\" and assign it a boolean value indicating whether you are\n",
    "currently a student or not."
   ]
  },
  {
   "cell_type": "code",
   "execution_count": 11,
   "id": "2895f42c-bfc7-43f5-8a9e-b8ed5c51d631",
   "metadata": {},
   "outputs": [
    {
     "data": {
      "text/plain": [
       "True"
      ]
     },
     "execution_count": 11,
     "metadata": {},
     "output_type": "execute_result"
    }
   ],
   "source": [
    "is_student = True\n",
    "is_student"
   ]
  }
 ],
 "metadata": {
  "kernelspec": {
   "display_name": "Python 3 (ipykernel)",
   "language": "python",
   "name": "python3"
  },
  "language_info": {
   "codemirror_mode": {
    "name": "ipython",
    "version": 3
   },
   "file_extension": ".py",
   "mimetype": "text/x-python",
   "name": "python",
   "nbconvert_exporter": "python",
   "pygments_lexer": "ipython3",
   "version": "3.10.8"
  }
 },
 "nbformat": 4,
 "nbformat_minor": 5
}
